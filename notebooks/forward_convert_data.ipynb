{
 "cells": [
  {
   "cell_type": "markdown",
   "metadata": {},
   "source": [
    "### Using ticdat to convert data between different schemas\n",
    "Here I'm showing how I convert  the testing data when the `input_schema` changes between versions of the package under development (i.e. `tts_netflow_a`).\n",
    "\n",
    "This notebook needs `tts_netflow_a` in the Python path, and `test_tts_netflow_a` as a subdirectory of the current directory. If you run it directly from the `notebooks` directory cloned from GitHub it won't find `test_tts_netflow_a`. I prefer to use symbolic links for such things."
   ]
  },
  {
   "cell_type": "code",
   "execution_count": 1,
   "metadata": {},
   "outputs": [],
   "source": [
    "import tts_netflow_a\n",
    "import os\n",
    "from ticdat import TicDatFactory"
   ]
  },
  {
   "cell_type": "markdown",
   "metadata": {},
   "source": [
    "Only one file to convert here, but I'll demonstrate in a way that extends to more than one."
   ]
  },
  {
   "cell_type": "code",
   "execution_count": 2,
   "metadata": {},
   "outputs": [
    {
     "data": {
      "text/plain": [
       "['netflow_flows_figure_5.json']"
      ]
     },
     "execution_count": 2,
     "metadata": {},
     "output_type": "execute_result"
    }
   ],
   "source": [
    "files =  os.listdir(os.path.join(\"test_tts_netflow_a\", \"data\"))\n",
    "files"
   ]
  },
  {
   "cell_type": "markdown",
   "metadata": {},
   "source": [
    "This notebook is being run when `tts_netflow_a.input_schema` reflects the new schema, but the data in `files` represents the old schema. To convert, I will thus need the old schema. This is easy to manually copy from the [0.0.1](https://github.com/ticdat/tts_netflow_a/blob/0.0.1/tts_netflow_a/netflow.py#L12) tag."
   ]
  },
  {
   "cell_type": "code",
   "execution_count": 3,
   "metadata": {},
   "outputs": [],
   "source": [
    "old_input_schema = TicDatFactory (\n",
    "    nodes=[[\"Name\"], [\"Inflow\"]],\n",
    "    arcs= [[\"Source\", \"Destination\"], [\"Cost\", \"Capacity\"]],\n",
    ")"
   ]
  },
  {
   "cell_type": "code",
   "execution_count": 4,
   "metadata": {},
   "outputs": [],
   "source": [
    "for f in files:\n",
    "    dat = old_input_schema.json.create_tic_dat(os.path.join(\"test_tts_netflow_a\", \"data\", f))\n",
    "    # I recommend two monitors so as to study both schemas at the same time\n",
    "    new_dat = tts_netflow_a.input_schema.TicDat(\n",
    "        nodes=[[k] for k in dat.nodes], \n",
    "        commodities = [[\"p\", 1.0]], \n",
    "        arcs = [[s, d, r[\"Capacity\"]] for (s, d), r in dat.arcs.items()], \n",
    "        cost = [[\"p\", s, d, r[\"Cost\"]] for (s, d), r in dat.arcs.items()], \n",
    "        inflow = [[\"p\", i, r[\"Inflow\"]] for i, r in dat.nodes.items()])\n",
    "    # make sure its kosher before you write it back\n",
    "    assert not tts_netflow_a.input_schema.find_foreign_key_failures(new_dat)\n",
    "    assert not tts_netflow_a.input_schema.find_data_type_failures(new_dat)\n",
    "    tts_netflow_a.input_schema.json.write_file(new_dat, \n",
    "                                               os.path.join(\"test_tts_netflow_a\", \"data\", f), \n",
    "                                               allow_overwrite=True)\n",
    "    "
   ]
  }
 ],
 "metadata": {
  "kernelspec": {
   "display_name": "Python 3",
   "language": "python",
   "name": "python3"
  },
  "language_info": {
   "codemirror_mode": {
    "name": "ipython",
    "version": 3
   },
   "file_extension": ".py",
   "mimetype": "text/x-python",
   "name": "python",
   "nbconvert_exporter": "python",
   "pygments_lexer": "ipython3",
   "version": "3.7.0"
  }
 },
 "nbformat": 4,
 "nbformat_minor": 2
}
